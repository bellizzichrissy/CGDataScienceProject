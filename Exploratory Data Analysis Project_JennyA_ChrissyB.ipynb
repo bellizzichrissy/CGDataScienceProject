{
 "cells": [
  {
   "cell_type": "markdown",
   "metadata": {},
   "source": [
    "# Exploratory Data Analysis Project: Pokeplot\n",
    "## API used: PokeAPI (https://pokeapi.co)"
   ]
  },
  {
   "cell_type": "markdown",
   "metadata": {},
   "source": [
    "## Executive Summary:\n",
    "\n",
    "We'll put our executive summary here"
   ]
  },
  {
   "cell_type": "code",
   "execution_count": 1,
   "metadata": {},
   "outputs": [],
   "source": [
    "#Base Code\n",
    "\n",
    "# https://pokeapi.co/api/v2/ability/{id or name}/\n",
    "# Dependencies and Setup\n",
    "#Data for all 898 pokemon\n",
    "\n",
    "import matplotlib.pyplot as plt\n",
    "import pandas as pd\n",
    "import numpy as np\n",
    "import json\n",
    "import requests\n",
    "import time\n",
    "from pprint import pprint\n",
    "from random import randint\n",
    "\n",
    "#Hitting the API and pulling down data for all pokemon in the specified range in json format\n",
    "base_url = \"https://pokeapi.co/api/v2/pokemon/\"\n",
    "pokemon = []\n",
    "for i in range(1,899):\n",
    "    req = requests.get(base_url + str(i))\n",
    "    pokemon.append(req.json())"
   ]
  },
  {
   "cell_type": "code",
   "execution_count": 2,
   "metadata": {},
   "outputs": [
    {
     "name": "stdout",
     "output_type": "stream",
     "text": [
      "898\n"
     ]
    }
   ],
   "source": [
    "#Data for all 898 pokemon\n",
    "#Making a list\n",
    "pokemon_all=[]\n",
    "for entry in pokemon:\n",
    "    pokemon_dict={}\n",
    "    pokemon_dict[\"name\"]=entry[\"name\"]\n",
    "    pokemon_dict[\"id\"]=entry[\"id\"]\n",
    "    pokemon_dict[\"height\"]=entry[\"height\"]\n",
    "    pokemon_dict[\"weight\"]=entry[\"weight\"]\n",
    "    pokemon_dict[\"base_experience\"]=entry[\"base_experience\"]\n",
    "    pokemon_dict[\"stats_hp\"]=entry[\"stats\"][0][\"base_stat\"]\n",
    "    pokemon_dict[\"stats_attack\"]=entry[\"stats\"][1][\"base_stat\"]\n",
    "    pokemon_dict[\"stats_defense\"]=entry[\"stats\"][2][\"base_stat\"]\n",
    "    pokemon_dict[\"stats_special_attack\"]=entry[\"stats\"][3][\"base_stat\"]\n",
    "    pokemon_dict[\"stats_special_defense\"]=entry[\"stats\"][4][\"base_stat\"]\n",
    "    pokemon_dict[\"stats_speed\"]=entry[\"stats\"][5][\"base_stat\"]\n",
    "    #Pulling out the types\n",
    "    types=entry[\"types\"]\n",
    "    type_array=[]\n",
    "    for t in types:\n",
    "        type_name=t[\"type\"][\"name\"]\n",
    "        type_array.append(type_name)\n",
    "    pokemon_dict[\"types\"]=type_array\n",
    "    #Figuring out and including how many types each pokemon represents\n",
    "    num_types=len(types)\n",
    "    pokemon_dict[\"number_types\"]=num_types\n",
    "    #Some pokemon have multiple types, so this pulls out the the first type for all (all have at least 1 type)\n",
    "    pokemon_dict[\"type1\"]=types[0][\"type\"][\"name\"]\n",
    "    #The max types is 2, so if a pokemon has 2 types, this will put the 2nd type into a new column, otherwise a value of 'none' is given\n",
    "    if num_types==2:\n",
    "        pokemon_dict[\"type2\"]=types[1][\"type\"][\"name\"]\n",
    "    else:\n",
    "        pokemon_dict[\"type2\"]=\"none\"\n",
    "    #Sorting the array of types by alphabetical order to make manipulation of types easier later\n",
    "    type_array.sort()\n",
    "    #Joining the array to create a hybrid \"type\" column so if there are 2 types they are given together as string\n",
    "    pokemon_dict[\"hybrid_type\"]=','.join(type_array)\n",
    "    #Making a new column to identify generation\n",
    "    if entry[\"id\"] <= 151:\n",
    "        generation = 1\n",
    "    elif entry[\"id\"] <= 251:\n",
    "        generation = 2\n",
    "    elif entry[\"id\"] <= 386:\n",
    "        generation = 3\n",
    "    elif entry[\"id\"] <= 493:\n",
    "        generation = 4\n",
    "    elif entry[\"id\"] <= 649:\n",
    "        generation = 5\n",
    "    elif entry[\"id\"] <= 721:\n",
    "        generation = 6\n",
    "    elif entry[\"id\"] <= 809:\n",
    "        generation = 7\n",
    "    else:\n",
    "        generation = 8\n",
    "    pokemon_dict[\"generation\"] = generation\n",
    "    pokemon_all.append(pokemon_dict)\n",
    "pokemon_df=pd.DataFrame(pokemon_all)\n",
    "print(len(pokemon_df))"
   ]
  },
  {
   "cell_type": "code",
   "execution_count": 3,
   "metadata": {},
   "outputs": [
    {
     "data": {
      "text/html": [
       "<div>\n",
       "<style scoped>\n",
       "    .dataframe tbody tr th:only-of-type {\n",
       "        vertical-align: middle;\n",
       "    }\n",
       "\n",
       "    .dataframe tbody tr th {\n",
       "        vertical-align: top;\n",
       "    }\n",
       "\n",
       "    .dataframe thead th {\n",
       "        text-align: right;\n",
       "    }\n",
       "</style>\n",
       "<table border=\"1\" class=\"dataframe\">\n",
       "  <thead>\n",
       "    <tr style=\"text-align: right;\">\n",
       "      <th></th>\n",
       "      <th>name</th>\n",
       "      <th>id</th>\n",
       "      <th>height</th>\n",
       "      <th>weight</th>\n",
       "      <th>base_experience</th>\n",
       "      <th>stats_hp</th>\n",
       "      <th>stats_attack</th>\n",
       "      <th>stats_defense</th>\n",
       "      <th>stats_special_attack</th>\n",
       "      <th>stats_special_defense</th>\n",
       "      <th>stats_speed</th>\n",
       "      <th>types</th>\n",
       "      <th>number_types</th>\n",
       "      <th>type1</th>\n",
       "      <th>type2</th>\n",
       "      <th>hybrid_type</th>\n",
       "      <th>generation</th>\n",
       "    </tr>\n",
       "  </thead>\n",
       "  <tbody>\n",
       "    <tr>\n",
       "      <th>0</th>\n",
       "      <td>bulbasaur</td>\n",
       "      <td>1</td>\n",
       "      <td>7</td>\n",
       "      <td>69</td>\n",
       "      <td>64</td>\n",
       "      <td>45</td>\n",
       "      <td>49</td>\n",
       "      <td>49</td>\n",
       "      <td>65</td>\n",
       "      <td>65</td>\n",
       "      <td>45</td>\n",
       "      <td>[grass, poison]</td>\n",
       "      <td>2</td>\n",
       "      <td>grass</td>\n",
       "      <td>poison</td>\n",
       "      <td>grass,poison</td>\n",
       "      <td>1</td>\n",
       "    </tr>\n",
       "    <tr>\n",
       "      <th>1</th>\n",
       "      <td>ivysaur</td>\n",
       "      <td>2</td>\n",
       "      <td>10</td>\n",
       "      <td>130</td>\n",
       "      <td>142</td>\n",
       "      <td>60</td>\n",
       "      <td>62</td>\n",
       "      <td>63</td>\n",
       "      <td>80</td>\n",
       "      <td>80</td>\n",
       "      <td>60</td>\n",
       "      <td>[grass, poison]</td>\n",
       "      <td>2</td>\n",
       "      <td>grass</td>\n",
       "      <td>poison</td>\n",
       "      <td>grass,poison</td>\n",
       "      <td>1</td>\n",
       "    </tr>\n",
       "    <tr>\n",
       "      <th>2</th>\n",
       "      <td>venusaur</td>\n",
       "      <td>3</td>\n",
       "      <td>20</td>\n",
       "      <td>1000</td>\n",
       "      <td>236</td>\n",
       "      <td>80</td>\n",
       "      <td>82</td>\n",
       "      <td>83</td>\n",
       "      <td>100</td>\n",
       "      <td>100</td>\n",
       "      <td>80</td>\n",
       "      <td>[grass, poison]</td>\n",
       "      <td>2</td>\n",
       "      <td>grass</td>\n",
       "      <td>poison</td>\n",
       "      <td>grass,poison</td>\n",
       "      <td>1</td>\n",
       "    </tr>\n",
       "    <tr>\n",
       "      <th>3</th>\n",
       "      <td>charmander</td>\n",
       "      <td>4</td>\n",
       "      <td>6</td>\n",
       "      <td>85</td>\n",
       "      <td>62</td>\n",
       "      <td>39</td>\n",
       "      <td>52</td>\n",
       "      <td>43</td>\n",
       "      <td>60</td>\n",
       "      <td>50</td>\n",
       "      <td>65</td>\n",
       "      <td>[fire]</td>\n",
       "      <td>1</td>\n",
       "      <td>fire</td>\n",
       "      <td>none</td>\n",
       "      <td>fire</td>\n",
       "      <td>1</td>\n",
       "    </tr>\n",
       "    <tr>\n",
       "      <th>4</th>\n",
       "      <td>charmeleon</td>\n",
       "      <td>5</td>\n",
       "      <td>11</td>\n",
       "      <td>190</td>\n",
       "      <td>142</td>\n",
       "      <td>58</td>\n",
       "      <td>64</td>\n",
       "      <td>58</td>\n",
       "      <td>80</td>\n",
       "      <td>65</td>\n",
       "      <td>80</td>\n",
       "      <td>[fire]</td>\n",
       "      <td>1</td>\n",
       "      <td>fire</td>\n",
       "      <td>none</td>\n",
       "      <td>fire</td>\n",
       "      <td>1</td>\n",
       "    </tr>\n",
       "    <tr>\n",
       "      <th>...</th>\n",
       "      <td>...</td>\n",
       "      <td>...</td>\n",
       "      <td>...</td>\n",
       "      <td>...</td>\n",
       "      <td>...</td>\n",
       "      <td>...</td>\n",
       "      <td>...</td>\n",
       "      <td>...</td>\n",
       "      <td>...</td>\n",
       "      <td>...</td>\n",
       "      <td>...</td>\n",
       "      <td>...</td>\n",
       "      <td>...</td>\n",
       "      <td>...</td>\n",
       "      <td>...</td>\n",
       "      <td>...</td>\n",
       "      <td>...</td>\n",
       "    </tr>\n",
       "    <tr>\n",
       "      <th>893</th>\n",
       "      <td>regieleki</td>\n",
       "      <td>894</td>\n",
       "      <td>12</td>\n",
       "      <td>1450</td>\n",
       "      <td>290</td>\n",
       "      <td>80</td>\n",
       "      <td>100</td>\n",
       "      <td>50</td>\n",
       "      <td>100</td>\n",
       "      <td>50</td>\n",
       "      <td>200</td>\n",
       "      <td>[electric]</td>\n",
       "      <td>1</td>\n",
       "      <td>electric</td>\n",
       "      <td>none</td>\n",
       "      <td>electric</td>\n",
       "      <td>8</td>\n",
       "    </tr>\n",
       "    <tr>\n",
       "      <th>894</th>\n",
       "      <td>regidrago</td>\n",
       "      <td>895</td>\n",
       "      <td>21</td>\n",
       "      <td>2000</td>\n",
       "      <td>290</td>\n",
       "      <td>200</td>\n",
       "      <td>100</td>\n",
       "      <td>50</td>\n",
       "      <td>100</td>\n",
       "      <td>50</td>\n",
       "      <td>80</td>\n",
       "      <td>[dragon]</td>\n",
       "      <td>1</td>\n",
       "      <td>dragon</td>\n",
       "      <td>none</td>\n",
       "      <td>dragon</td>\n",
       "      <td>8</td>\n",
       "    </tr>\n",
       "    <tr>\n",
       "      <th>895</th>\n",
       "      <td>glastrier</td>\n",
       "      <td>896</td>\n",
       "      <td>22</td>\n",
       "      <td>8000</td>\n",
       "      <td>290</td>\n",
       "      <td>100</td>\n",
       "      <td>145</td>\n",
       "      <td>130</td>\n",
       "      <td>65</td>\n",
       "      <td>110</td>\n",
       "      <td>30</td>\n",
       "      <td>[ice]</td>\n",
       "      <td>1</td>\n",
       "      <td>ice</td>\n",
       "      <td>none</td>\n",
       "      <td>ice</td>\n",
       "      <td>8</td>\n",
       "    </tr>\n",
       "    <tr>\n",
       "      <th>896</th>\n",
       "      <td>spectrier</td>\n",
       "      <td>897</td>\n",
       "      <td>20</td>\n",
       "      <td>445</td>\n",
       "      <td>290</td>\n",
       "      <td>100</td>\n",
       "      <td>65</td>\n",
       "      <td>60</td>\n",
       "      <td>145</td>\n",
       "      <td>80</td>\n",
       "      <td>130</td>\n",
       "      <td>[ghost]</td>\n",
       "      <td>1</td>\n",
       "      <td>ghost</td>\n",
       "      <td>none</td>\n",
       "      <td>ghost</td>\n",
       "      <td>8</td>\n",
       "    </tr>\n",
       "    <tr>\n",
       "      <th>897</th>\n",
       "      <td>calyrex</td>\n",
       "      <td>898</td>\n",
       "      <td>11</td>\n",
       "      <td>77</td>\n",
       "      <td>250</td>\n",
       "      <td>100</td>\n",
       "      <td>80</td>\n",
       "      <td>80</td>\n",
       "      <td>80</td>\n",
       "      <td>80</td>\n",
       "      <td>80</td>\n",
       "      <td>[grass, psychic]</td>\n",
       "      <td>2</td>\n",
       "      <td>psychic</td>\n",
       "      <td>grass</td>\n",
       "      <td>grass,psychic</td>\n",
       "      <td>8</td>\n",
       "    </tr>\n",
       "  </tbody>\n",
       "</table>\n",
       "<p>898 rows × 17 columns</p>\n",
       "</div>"
      ],
      "text/plain": [
       "           name   id  height  weight  base_experience  stats_hp  stats_attack  \\\n",
       "0     bulbasaur    1       7      69               64        45            49   \n",
       "1       ivysaur    2      10     130              142        60            62   \n",
       "2      venusaur    3      20    1000              236        80            82   \n",
       "3    charmander    4       6      85               62        39            52   \n",
       "4    charmeleon    5      11     190              142        58            64   \n",
       "..          ...  ...     ...     ...              ...       ...           ...   \n",
       "893   regieleki  894      12    1450              290        80           100   \n",
       "894   regidrago  895      21    2000              290       200           100   \n",
       "895   glastrier  896      22    8000              290       100           145   \n",
       "896   spectrier  897      20     445              290       100            65   \n",
       "897     calyrex  898      11      77              250       100            80   \n",
       "\n",
       "     stats_defense  stats_special_attack  stats_special_defense  stats_speed  \\\n",
       "0               49                    65                     65           45   \n",
       "1               63                    80                     80           60   \n",
       "2               83                   100                    100           80   \n",
       "3               43                    60                     50           65   \n",
       "4               58                    80                     65           80   \n",
       "..             ...                   ...                    ...          ...   \n",
       "893             50                   100                     50          200   \n",
       "894             50                   100                     50           80   \n",
       "895            130                    65                    110           30   \n",
       "896             60                   145                     80          130   \n",
       "897             80                    80                     80           80   \n",
       "\n",
       "                types  number_types     type1   type2    hybrid_type  \\\n",
       "0     [grass, poison]             2     grass  poison   grass,poison   \n",
       "1     [grass, poison]             2     grass  poison   grass,poison   \n",
       "2     [grass, poison]             2     grass  poison   grass,poison   \n",
       "3              [fire]             1      fire    none           fire   \n",
       "4              [fire]             1      fire    none           fire   \n",
       "..                ...           ...       ...     ...            ...   \n",
       "893        [electric]             1  electric    none       electric   \n",
       "894          [dragon]             1    dragon    none         dragon   \n",
       "895             [ice]             1       ice    none            ice   \n",
       "896           [ghost]             1     ghost    none          ghost   \n",
       "897  [grass, psychic]             2   psychic   grass  grass,psychic   \n",
       "\n",
       "     generation  \n",
       "0             1  \n",
       "1             1  \n",
       "2             1  \n",
       "3             1  \n",
       "4             1  \n",
       "..          ...  \n",
       "893           8  \n",
       "894           8  \n",
       "895           8  \n",
       "896           8  \n",
       "897           8  \n",
       "\n",
       "[898 rows x 17 columns]"
      ]
     },
     "execution_count": 3,
     "metadata": {},
     "output_type": "execute_result"
    }
   ],
   "source": [
    "#display the dataframe of all 898 pokemon\n",
    "pokemon_df"
   ]
  },
  {
   "cell_type": "code",
   "execution_count": 4,
   "metadata": {},
   "outputs": [
    {
     "data": {
      "text/plain": [
       "count    898.000000\n",
       "mean     146.384187\n",
       "std       75.838240\n",
       "min       36.000000\n",
       "25%       66.000000\n",
       "50%      154.000000\n",
       "75%      180.000000\n",
       "max      608.000000\n",
       "Name: base_experience, dtype: float64"
      ]
     },
     "execution_count": 4,
     "metadata": {},
     "output_type": "execute_result"
    }
   ],
   "source": [
    "#run base experience stats on entire data set vs. each generation\n",
    "pokemon_df['base_experience'].describe()"
   ]
  },
  {
   "cell_type": "code",
   "execution_count": 20,
   "metadata": {},
   "outputs": [
    {
     "data": {
      "text/plain": [
       "count    151.000000\n",
       "mean     135.052980\n",
       "std       67.719794\n",
       "min       39.000000\n",
       "25%       65.000000\n",
       "50%      142.000000\n",
       "75%      176.000000\n",
       "max      395.000000\n",
       "Name: base_experience, dtype: float64"
      ]
     },
     "execution_count": 20,
     "metadata": {},
     "output_type": "execute_result"
    }
   ],
   "source": [
    "pokemongen1df = pokemon_df[pokemon_df[\"generation\"] == 1]\n",
    "pokemongen1df['base_experience'].describe()"
   ]
  },
  {
   "cell_type": "code",
   "execution_count": null,
   "metadata": {},
   "outputs": [],
   "source": []
  },
  {
   "cell_type": "code",
   "execution_count": 6,
   "metadata": {},
   "outputs": [
    {
     "data": {
      "text/plain": [
       "count    100.000000\n",
       "mean     139.380000\n",
       "std       84.185795\n",
       "min       36.000000\n",
       "25%       66.000000\n",
       "50%      143.000000\n",
       "75%      175.000000\n",
       "max      608.000000\n",
       "Name: base_experience, dtype: float64"
      ]
     },
     "execution_count": 6,
     "metadata": {},
     "output_type": "execute_result"
    }
   ],
   "source": [
    "pokemongen2df = pokemon_df[pokemon_df[\"generation\"] == 2]\n",
    "pokemongen2df['base_experience'].describe()"
   ]
  },
  {
   "cell_type": "code",
   "execution_count": 7,
   "metadata": {},
   "outputs": [
    {
     "data": {
      "text/plain": [
       "count    135.000000\n",
       "mean     137.340741\n",
       "std       70.795708\n",
       "min       38.000000\n",
       "25%       62.000000\n",
       "50%      147.000000\n",
       "75%      169.000000\n",
       "max      306.000000\n",
       "Name: base_experience, dtype: float64"
      ]
     },
     "execution_count": 7,
     "metadata": {},
     "output_type": "execute_result"
    }
   ],
   "source": [
    "pokemongen3df = pokemon_df[pokemon_df[\"generation\"] == 3]\n",
    "pokemongen3df['base_experience'].describe()"
   ]
  },
  {
   "cell_type": "code",
   "execution_count": 8,
   "metadata": {},
   "outputs": [
    {
     "data": {
      "text/plain": [
       "count    107.000000\n",
       "mean     158.775701\n",
       "std       77.694893\n",
       "min       39.000000\n",
       "25%       69.500000\n",
       "50%      168.000000\n",
       "75%      232.500000\n",
       "max      324.000000\n",
       "Name: base_experience, dtype: float64"
      ]
     },
     "execution_count": 8,
     "metadata": {},
     "output_type": "execute_result"
    }
   ],
   "source": [
    "pokemongen4df = pokemon_df[pokemon_df[\"generation\"] == 4]\n",
    "pokemongen4df['base_experience'].describe()"
   ]
  },
  {
   "cell_type": "code",
   "execution_count": 9,
   "metadata": {},
   "outputs": [
    {
     "data": {
      "text/plain": [
       "count    156.000000\n",
       "mean     145.692308\n",
       "std       74.053391\n",
       "min       51.000000\n",
       "25%       64.750000\n",
       "50%      158.500000\n",
       "75%      178.250000\n",
       "max      390.000000\n",
       "Name: base_experience, dtype: float64"
      ]
     },
     "execution_count": 9,
     "metadata": {},
     "output_type": "execute_result"
    }
   ],
   "source": [
    "pokemongen5df = pokemon_df[pokemon_df[\"generation\"] == 5]\n",
    "pokemongen5df['base_experience'].describe()"
   ]
  },
  {
   "cell_type": "code",
   "execution_count": 10,
   "metadata": {},
   "outputs": [
    {
     "data": {
      "text/plain": [
       "count     72.000000\n",
       "mean     140.611111\n",
       "std       73.364526\n",
       "min       40.000000\n",
       "25%       67.750000\n",
       "50%      149.500000\n",
       "75%      177.750000\n",
       "max      306.000000\n",
       "Name: base_experience, dtype: float64"
      ]
     },
     "execution_count": 10,
     "metadata": {},
     "output_type": "execute_result"
    }
   ],
   "source": [
    "pokemongen6df = pokemon_df[pokemon_df[\"generation\"] == 6]\n",
    "pokemongen6df['base_experience'].describe()"
   ]
  },
  {
   "cell_type": "code",
   "execution_count": 11,
   "metadata": {},
   "outputs": [
    {
     "data": {
      "text/plain": [
       "count     88.000000\n",
       "mean     165.738636\n",
       "std       77.683930\n",
       "min       40.000000\n",
       "25%       95.750000\n",
       "50%      168.000000\n",
       "75%      246.500000\n",
       "max      306.000000\n",
       "Name: base_experience, dtype: float64"
      ]
     },
     "execution_count": 11,
     "metadata": {},
     "output_type": "execute_result"
    }
   ],
   "source": [
    "pokemongen7df = pokemon_df[pokemon_df[\"generation\"] == 7]\n",
    "pokemongen7df['base_experience'].describe()"
   ]
  },
  {
   "cell_type": "code",
   "execution_count": 12,
   "metadata": {},
   "outputs": [
    {
     "data": {
      "text/plain": [
       "count     89.000000\n",
       "mean     159.044944\n",
       "std       82.529459\n",
       "min       36.000000\n",
       "25%       63.000000\n",
       "50%      166.000000\n",
       "75%      182.000000\n",
       "max      345.000000\n",
       "Name: base_experience, dtype: float64"
      ]
     },
     "execution_count": 12,
     "metadata": {},
     "output_type": "execute_result"
    }
   ],
   "source": [
    "pokemongen8df = pokemon_df[pokemon_df[\"generation\"] == 8]\n",
    "pokemongen8df['base_experience'].describe()"
   ]
  },
  {
   "cell_type": "code",
   "execution_count": 17,
   "metadata": {},
   "outputs": [
    {
     "data": {
      "image/png": "[encoded data removed]",
      "text/plain": [
       "<Figure size 432x288 with 1 Axes>"
      ]
     },
     "metadata": {
      "needs_background": "light"
     },
     "output_type": "display_data"
    }
   ],
   "source": [
    "#looking at pokemon primary types (type 1) for all generations\n",
    "import seaborn as sns\n",
    "\n",
    "p = sns.countplot(x=\"type1\", data=pokemon_df, order=['bug', 'dark', 'dragon', 'electric', 'fairy', 'fighting', \n",
    "                                                     'fire', 'flying', 'ghost', 'grass', 'ground', 'ice', 'normal', \n",
    "                                                     'poison', 'psychic', 'rock', 'steel', 'water'])\n",
    "p.set_title(\"Distribution of Pokemon Types (all 898)\")\n",
    "p.set(xlabel = \"Primary Type\", ylabel = \"Number of Pokemon\")\n",
    "plt.xticks(rotation=90)\n",
    "plt.show()"
   ]
  },
  {
   "cell_type": "code",
   "execution_count": 18,
   "metadata": {},
   "outputs": [
    {
     "data": {
      "image/png": "[encoded data removed]",
      "text/plain": [
       "<Figure size 432x288 with 1 Axes>"
      ]
     },
     "metadata": {
      "needs_background": "light"
     },
     "output_type": "display_data"
    }
   ],
   "source": [
    "#looking at pokemon secondary types (type 2) for all generations\n",
    "\n",
    "s = sns.countplot(x=\"type2\", data=pokemon_df, order=['bug', 'dark', 'dragon', 'electric', 'fairy', 'fighting', \n",
    "                                                     'fire', 'flying', 'ghost', 'grass', 'ground', 'ice', 'none',\n",
    "                                                     'normal', 'poison', 'psychic', 'rock', 'steel', 'water'])\n",
    "s.set_title(\"Distribution of Pokemon Types (all 898)\")\n",
    "s.set(xlabel = \"Secondary Type\", ylabel = \"Number of Pokemon\")\n",
    "plt.xticks(rotation=90)\n",
    "plt.show()"
   ]
  },
  {
   "cell_type": "code",
   "execution_count": 22,
   "metadata": {},
   "outputs": [
    {
     "data": {
      "image/png": "[encoded data removed]",
      "text/plain": [
       "<Figure size 432x288 with 1 Axes>"
      ]
     },
     "metadata": {
      "needs_background": "light"
     },
     "output_type": "display_data"
    }
   ],
   "source": [
    "#looking at pokemon primary types - gen 1\n",
    "\n",
    "p = sns.countplot(x=\"type1\", data=pokemongen1df, color=\"red\", order=['bug', 'dark', 'dragon', 'electric', 'fairy', 'fighting', \n",
    "                                                     'fire', 'flying', 'ghost', 'grass', 'ground', 'ice', \n",
    "                                                     'normal', 'poison', 'psychic', 'rock', 'steel', 'water'])\n",
    "p.set_title(\"Distribution of Pokemon Types (First Generation)\")\n",
    "p.set(xlabel = \"Primary Type\", ylabel = \"Number of Pokemon\")\n",
    "plt.xticks(rotation=90)\n",
    "plt.show()"
   ]
  },
  {
   "cell_type": "code",
   "execution_count": 28,
   "metadata": {},
   "outputs": [
    {
     "data": {
      "image/png": "[encoded data removed]",
      "text/plain": [
       "<Figure size 432x288 with 1 Axes>"
      ]
     },
     "metadata": {
      "needs_background": "light"
     },
     "output_type": "display_data"
    }
   ],
   "source": [
    "# looking at pokemon secondary types - Gen 1\n",
    "\n",
    "s = sns.countplot(x=\"type2\", data=pokemongen1df, color=\"green\", order=['bug', 'dark', 'dragon', 'electric', 'fairy', 'fighting', \n",
    "                                                     'fire', 'flying', 'ghost', 'grass', 'ground', 'ice', 'none',\n",
    "                                                     'normal', 'poison', 'psychic', 'rock', 'steel', 'water'])\n",
    "s.set_title(\"Distribution of Pokemon Types (First Generation)\")\n",
    "s.set(xlabel = \"Secondary Type\", ylabel = \"Number of Pokemon\")\n",
    "plt.xticks(rotation=90)\n",
    "plt.show()"
   ]
  },
  {
   "cell_type": "code",
   "execution_count": 24,
   "metadata": {},
   "outputs": [
    {
     "data": {
      "image/png": "[encoded data removed]",
      "text/plain": [
       "<Figure size 432x288 with 1 Axes>"
      ]
     },
     "metadata": {
      "needs_background": "light"
     },
     "output_type": "display_data"
    }
   ],
   "source": [
    "#looking at pokemon primary types - gen 5\n",
    "\n",
    "p = sns.countplot(x=\"type1\", data=pokemongen5df, color=\"black\", order=['bug', 'dark', 'dragon', 'electric', 'fairy', 'fighting', \n",
    "                                                     'fire', 'flying', 'ghost', 'grass', 'ground', 'ice', \n",
    "                                                     'normal', 'poison', 'psychic', 'rock', 'steel', 'water'])\n",
    "p.set_title(\"Distribution of Pokemon Types (Fifth Generation)\")\n",
    "p.set(xlabel = \"Primary Type\", ylabel = \"Number of Pokemon\")\n",
    "plt.xticks(rotation=90)\n",
    "plt.show()"
   ]
  },
  {
   "cell_type": "code",
   "execution_count": 25,
   "metadata": {},
   "outputs": [
    {
     "data": {
      "image/png": "[encoded data removed]",
      "text/plain": [
       "<Figure size 432x288 with 1 Axes>"
      ]
     },
     "metadata": {
      "needs_background": "light"
     },
     "output_type": "display_data"
    }
   ],
   "source": [
    "#looking at pokemon primary types - Gen 6\n",
    "\n",
    "p = sns.countplot(x=\"type1\", data=pokemongen6df, color=\"blue\", order=['bug', 'dark', 'dragon', 'electric', 'fairy', 'fighting', \n",
    "                                                     'fire', 'flying', 'ghost', 'grass', 'ground', 'ice', \n",
    "                                                     'normal', 'poison', 'psychic', 'rock', 'steel', 'water'])\n",
    "p.set_title(\"Distribution of Pokemon Types (Sixth Generation)\")\n",
    "p.set(xlabel = \"Primary Type\", ylabel = \"Number of Pokemon\")\n",
    "plt.xticks(rotation=90)\n",
    "plt.show()"
   ]
  },
  {
   "cell_type": "code",
   "execution_count": 26,
   "metadata": {},
   "outputs": [
    {
     "data": {
      "image/png": "[encoded data removed]",
      "text/plain": [
       "<Figure size 432x288 with 1 Axes>"
      ]
     },
     "metadata": {
      "needs_background": "light"
     },
     "output_type": "display_data"
    }
   ],
   "source": [
    "#looking at pokemon primary types - Gen 7\n",
    "\n",
    "p = sns.countplot(x=\"type1\", data=pokemongen7df, color=\"orange\", order=['bug', 'dark', 'dragon', 'electric', 'fairy', 'fighting', \n",
    "                                                     'fire', 'flying', 'ghost', 'grass', 'ground', 'ice',\n",
    "                                                     'normal', 'poison', 'psychic', 'rock', 'steel', 'water'])\n",
    "p.set_title(\"Distribution of Pokemon Types (Seventh Generation)\")\n",
    "p.set(xlabel = \"Primary Type\", ylabel = \"Number of Pokemon\")\n",
    "plt.xticks(rotation=90)\n",
    "plt.show()"
   ]
  },
  {
   "cell_type": "code",
   "execution_count": 27,
   "metadata": {},
   "outputs": [
    {
     "data": {
      "image/png": "[encoded data removed]",
      "text/plain": [
       "<Figure size 432x288 with 1 Axes>"
      ]
     },
     "metadata": {
      "needs_background": "light"
     },
     "output_type": "display_data"
    }
   ],
   "source": [
    "#looking at pokemon secondary types - Gen 7\n",
    "\n",
    "s = sns.countplot(x=\"type2\", data=pokemongen7df, color=\"grey\", order=['bug', 'dark', 'dragon', 'electric', 'fairy', 'fighting', \n",
    "                                                     'fire', 'flying', 'ghost', 'grass', 'ground', 'ice', 'none',\n",
    "                                                     'normal', 'poison', 'psychic', 'rock', 'steel', 'water'])\n",
    "s.set_title(\"Distribution of Pokemon Types (Seventh Generation)\")\n",
    "s.set(xlabel = \"Secondary Type\", ylabel = \"Number of Pokemon\")\n",
    "plt.xticks(rotation=90)\n",
    "plt.show()"
   ]
  },
  {
   "cell_type": "code",
   "execution_count": null,
   "metadata": {},
   "outputs": [],
   "source": []
  },
  {
   "cell_type": "code",
   "execution_count": null,
   "metadata": {},
   "outputs": [],
   "source": []
  },
  {
   "cell_type": "code",
   "execution_count": null,
   "metadata": {},
   "outputs": [],
   "source": []
  },
  {
   "cell_type": "code",
   "execution_count": null,
   "metadata": {},
   "outputs": [],
   "source": []
  },
  {
   "cell_type": "code",
   "execution_count": null,
   "metadata": {},
   "outputs": [],
   "source": []
  }
 ],
 "metadata": {
  "kernelspec": {
   "display_name": "Python 3",
   "language": "python",
   "name": "python3"
  },
  "language_info": {
   "codemirror_mode": {
    "name": "ipython",
    "version": 3
   },
   "file_extension": ".py",
   "mimetype": "text/x-python",
   "name": "python",
   "nbconvert_exporter": "python",
   "pygments_lexer": "ipython3",
   "version": "3.8.5"
  }
 },
 "nbformat": 4,
 "nbformat_minor": 4
}
